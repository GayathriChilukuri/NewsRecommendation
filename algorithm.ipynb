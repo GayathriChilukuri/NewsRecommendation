{
 "cells": [
  {
   "cell_type": "markdown",
   "id": "8fbde8ce",
   "metadata": {},
   "source": [
    "# News Recommendation system"
   ]
  },
  {
   "cell_type": "code",
   "execution_count": 236,
   "id": "8d7e5263",
   "metadata": {},
   "outputs": [],
   "source": [
    "#importing libraries\n",
    "import pandas as pd\n",
    "import numpy as np\n",
    "import matplotlib.pyplot as plt\n",
    "import math as math\n",
    "import time \n",
    "import math\n",
    "import re\n",
    "from collections import Counter\n",
    "import nltk\n",
    "from nltk.corpus import stopwords"
   ]
  },
  {
   "cell_type": "code",
   "execution_count": 237,
   "id": "3a5c7770",
   "metadata": {},
   "outputs": [],
   "source": [
    "#reading the dataset\n",
    "df_ini = pd.read_csv(\"articles_data.csv.zip\")"
   ]
  },
  {
   "cell_type": "code",
   "execution_count": 238,
   "id": "9e74c342",
   "metadata": {
    "scrolled": true
   },
   "outputs": [],
   "source": [
    "#dropping unnecessary columns\n",
    "df_ini.drop(['Unnamed: 0','top_article','engagement_reaction_count','engagement_comment_count','engagement_share_count','engagement_comment_plugin_count'], axis=1, inplace=True)\n"
   ]
  },
  {
   "cell_type": "code",
   "execution_count": 239,
   "id": "6c6b6412",
   "metadata": {
    "scrolled": false
   },
   "outputs": [],
   "source": [
    "#removing duplicates and resetting index\n",
    "df = df_ini.drop_duplicates(subset='title', keep=\"first\")\n",
    "df = df.reset_index(drop=True)\n"
   ]
  },
  {
   "cell_type": "code",
   "execution_count": 240,
   "id": "7b5620bd",
   "metadata": {},
   "outputs": [],
   "source": [
    "#for converting text to vector\n",
    "def text_to_vector(text):\n",
    "    WORD = re.compile(r\"\\w+\")\n",
    "    words = WORD.findall(text)\n",
    "    return Counter(words)\n",
    "\n",
    "#for getting cosine simliarity between two sentences\n",
    "def get_cosine(vector1, vector2):\n",
    "    intersection = set(vector1.keys()) & set(vector2.keys())\n",
    "    numerator = sum([vector1[x]*vector2[x] for x in intersection])\n",
    "    sum1 = sum([vector1[x]*vector1[x] for x in list(vector1.keys())])\n",
    "    sum2 = sum([vector2[x]*vector2[x] for x in list(vector2.keys())])\n",
    "    denominator = math.sqrt(sum1)*math.sqrt(sum2)\n",
    "    if not denominator:\n",
    "        return 0.0\n",
    "    else:\n",
    "        return float(numerator)/denominator"
   ]
  },
  {
   "cell_type": "code",
   "execution_count": 241,
   "id": "b3f033a5",
   "metadata": {},
   "outputs": [],
   "source": [
    "#TEXT PREPROCESSING\n",
    "\n",
    "#changing all to lowercase\n",
    "df['description'] = df['description'].str.lower()"
   ]
  },
  {
   "cell_type": "code",
   "execution_count": 242,
   "id": "0e78284f",
   "metadata": {},
   "outputs": [],
   "source": [
    "#removing punctuations\n",
    "import string\n",
    "PUNCT_TO_REMOVE = string.punctuation\n",
    "def remove_punctuation(text):\n",
    "    new_string = str(text).translate(str.maketrans('', '', string.punctuation))\n",
    "    return new_string\n",
    "\n",
    "for i in range(len(df['description'])):\n",
    "    df['description'][i]=remove_punctuation(df['description'][i])\n"
   ]
  },
  {
   "cell_type": "code",
   "execution_count": 235,
   "id": "72a0b93c",
   "metadata": {},
   "outputs": [
    {
     "name": "stderr",
     "output_type": "stream",
     "text": [
      "[nltk_data] Downloading package stopwords to\n",
      "[nltk_data]     C:\\Users\\chgay\\AppData\\Roaming\\nltk_data...\n",
      "[nltk_data]   Package stopwords is already up-to-date!\n"
     ]
    }
   ],
   "source": [
    "#removing stopwords from the sentence\n",
    "STOPWORDS = set(stopwords.words('english'))\n",
    "def remove_stopwords(text):\n",
    "    return \" \".join([word for word in str(text).split() if word not in STOPWORDS])\n",
    "\n",
    "for i in range(len(df['description'])):\n",
    "    df['description'][i]=remove_stopwords(df['description'][i])"
   ]
  },
  {
   "cell_type": "code",
   "execution_count": 225,
   "id": "ef1eb83b",
   "metadata": {},
   "outputs": [],
   "source": [
    "#To recommend news based on cosine similarity\n",
    "def recommend(query):\n",
    "    list1=[]\n",
    "    for i in range(len(headlines_list['description'])):\n",
    "        vector1 = text_to_vector(query)\n",
    "        vector2 = text_to_vector(str(headlines_list['description'][i]))\n",
    "        list1.append(get_cosine(vector1, vector2)) #for getting the similarity\n",
    "        \n",
    "    headlines_list['score']= list1\n",
    "    rslt_df = headlines_list.sort_values(by='score',ascending = False)\n",
    "\n",
    "    final = list(rslt_df['title'])\n",
    "    final_im = list(rslt_df['url_to_image'])\n",
    "    final_des= list(rslt_df['description'])\n",
    "    final_url= list(rslt_df['url']) #making a list of necessary columns\n",
    "\n",
    "    recommendations_images = []\n",
    "    recommendations_news=[]\n",
    "    recommendations_descrip =[]\n",
    "    recommendations_url=[] \n",
    "\n",
    "    t=0\n",
    "    for k in rslt_df['title']:\n",
    "        if(t< 6):\n",
    "        recommendations_news.append(k)\n",
    "        recommendations_images.append(final_im[t])\n",
    "        recommendations_descrip.append(final_des[t])\n",
    "        recommendations_url.append(final_url[t])\n",
    "        t= t+1\n",
    "        \n",
    "    return recommendations_news,recommendations_images,recommendations_descrip,recommendations_url #returning the recommended news lists"
   ]
  },
  {
   "cell_type": "code",
   "execution_count": 226,
   "id": "c5bdc0bf",
   "metadata": {},
   "outputs": [],
   "source": [
    "import pickle"
   ]
  },
  {
   "cell_type": "code",
   "execution_count": 206,
   "id": "fe9f7d43",
   "metadata": {},
   "outputs": [],
   "source": [
    "#serilaization\n",
    "pickle.dump(df,open('headlines.pkl','wb'))"
   ]
  }
 ],
 "metadata": {
  "kernelspec": {
   "display_name": "Python 3 (ipykernel)",
   "language": "python",
   "name": "python3"
  },
  "language_info": {
   "codemirror_mode": {
    "name": "ipython",
    "version": 3
   },
   "file_extension": ".py",
   "mimetype": "text/x-python",
   "name": "python",
   "nbconvert_exporter": "python",
   "pygments_lexer": "ipython3",
   "version": "3.10.4"
  }
 },
 "nbformat": 4,
 "nbformat_minor": 5
}
